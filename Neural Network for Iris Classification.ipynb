{
 "cells": [
  {
   "cell_type": "markdown",
   "source": [
    "# Building a Neural Network 'By Hand' in Numpy to Classify Irises"
   ],
   "metadata": {
    "collapsed": false
   },
   "id": "553a08c440ee7412"
  },
  {
   "cell_type": "markdown",
   "source": [
    "The only imports we need!"
   ],
   "metadata": {
    "collapsed": false
   },
   "id": "32502c9b95dc7efc"
  },
  {
   "cell_type": "code",
   "execution_count": 1,
   "id": "initial_id",
   "metadata": {
    "collapsed": true,
    "ExecuteTime": {
     "end_time": "2024-05-03T20:38:36.601635700Z",
     "start_time": "2024-05-03T20:38:34.487698900Z"
    }
   },
   "outputs": [],
   "source": [
    "import numpy as np\n",
    "from pandas import read_csv\n",
    "from sklearn.model_selection import train_test_split\n",
    "from sklearn.preprocessing import OneHotEncoder"
   ]
  },
  {
   "cell_type": "markdown",
   "source": [
    "The data is the classic iris dataset- this csv was downloaded from [kaggle.](https://www.kaggle.com/datasets/saurabh00007/iriscsv/code)"
   ],
   "metadata": {
    "collapsed": false
   },
   "id": "a097a95996f2e538"
  },
  {
   "cell_type": "code",
   "execution_count": 2,
   "outputs": [],
   "source": [
    "data = read_csv('Iris.csv')\n",
    "X_train, X_test, y_train, y_test = train_test_split(data.drop('Species', axis=1), data['Species'], test_size=0.2, random_state=9)"
   ],
   "metadata": {
    "collapsed": false,
    "ExecuteTime": {
     "end_time": "2024-05-03T20:38:36.622537400Z",
     "start_time": "2024-05-03T20:38:36.609668600Z"
    }
   },
   "id": "8e7707a0bafb7d54"
  },
  {
   "cell_type": "markdown",
   "source": [
    "## Defining a Node Class and RelU and One-to-One (none) Activation Functions"
   ],
   "metadata": {
    "collapsed": false
   },
   "id": "355dad9250700cc5"
  },
  {
   "cell_type": "code",
   "execution_count": 3,
   "outputs": [],
   "source": [
    "def relu(x):\n",
    "    if x <= 0: return 0\n",
    "    else: return x"
   ],
   "metadata": {
    "collapsed": false,
    "ExecuteTime": {
     "end_time": "2024-05-03T20:38:36.638856600Z",
     "start_time": "2024-05-03T20:38:36.626919100Z"
    }
   },
   "id": "41bd8fe59932d453"
  },
  {
   "cell_type": "code",
   "execution_count": 4,
   "outputs": [],
   "source": [
    "def onetoone(x):\n",
    "    return x"
   ],
   "metadata": {
    "collapsed": false,
    "ExecuteTime": {
     "end_time": "2024-05-03T20:38:36.640043700Z",
     "start_time": "2024-05-03T20:38:36.632491Z"
    }
   },
   "id": "9968c4930a927b93"
  },
  {
   "cell_type": "code",
   "execution_count": 5,
   "outputs": [],
   "source": [
    "class Node():\n",
    "    def __init__(self, weights, bias, activationFn):\n",
    "        self.bias = bias\n",
    "        self.activationFn = activationFn\n",
    "        self.weights = weights\n",
    "    def calculate(self, inputs):\n",
    "        return float(self.activationFn(np.dot(inputs, self.weights) + self.bias))\n",
    "    "
   ],
   "metadata": {
    "collapsed": false,
    "ExecuteTime": {
     "end_time": "2024-05-03T20:38:36.656412800Z",
     "start_time": "2024-05-03T20:38:36.641728900Z"
    }
   },
   "id": "ecae5e4576c1eac9"
  },
  {
   "cell_type": "markdown",
   "source": [
    "## Defining a SoftMax Function"
   ],
   "metadata": {
    "collapsed": false
   },
   "id": "e836a5ba671172b2"
  },
  {
   "cell_type": "code",
   "execution_count": 6,
   "outputs": [],
   "source": [
    "def softmax(outputs):\n",
    "    return outputs/outputs.sum()"
   ],
   "metadata": {
    "collapsed": false,
    "ExecuteTime": {
     "end_time": "2024-05-03T20:38:36.656545500Z",
     "start_time": "2024-05-03T20:38:36.650877400Z"
    }
   },
   "id": "83d3d4682108bcd2"
  },
  {
   "cell_type": "markdown",
   "source": [
    "## One-Hot Encoding the Targets"
   ],
   "metadata": {
    "collapsed": false
   },
   "id": "8455f9373fae0781"
  },
  {
   "cell_type": "code",
   "execution_count": 7,
   "outputs": [
    {
     "name": "stderr",
     "output_type": "stream",
     "text": [
      "C:\\Users\\Mark\\anaconda3\\Lib\\site-packages\\sklearn\\preprocessing\\_encoders.py:868: FutureWarning: `sparse` was renamed to `sparse_output` in version 1.2 and will be removed in 1.4. `sparse_output` is ignored unless you leave `sparse` to its default value.\n",
      "  warnings.warn(\n"
     ]
    }
   ],
   "source": [
    "\n",
    "encoder = OneHotEncoder(sparse=False)\n",
    "y_train_transformed = encoder.fit_transform(np.array(y_train).reshape(-1,1))"
   ],
   "metadata": {
    "collapsed": false,
    "ExecuteTime": {
     "end_time": "2024-05-03T20:38:36.691831900Z",
     "start_time": "2024-05-03T20:38:36.656545500Z"
    }
   },
   "id": "de95a541923ce082"
  },
  {
   "cell_type": "markdown",
   "source": [
    "## Scaling the Inputs"
   ],
   "metadata": {
    "collapsed": false
   },
   "id": "d0a41ebc56ac254d"
  },
  {
   "cell_type": "code",
   "execution_count": 8,
   "outputs": [],
   "source": [
    "X_train['SepalLengthCm'] = X_train['SepalLengthCm'] / X_train['SepalLengthCm'].max() - 0.5\n",
    "X_train['SepalWidthCm'] = X_train['SepalWidthCm'] / X_train['SepalWidthCm'].max() - 0.5\n",
    "X_train['PetalLengthCm'] = X_train['PetalLengthCm'] / X_train['PetalLengthCm'].max() - 0.5\n",
    "X_train['PetalWidthCm'] = X_train['PetalWidthCm'] / X_train['PetalWidthCm'].max() - 0.5"
   ],
   "metadata": {
    "collapsed": false,
    "ExecuteTime": {
     "end_time": "2024-05-03T20:38:36.692902800Z",
     "start_time": "2024-05-03T20:38:36.671434300Z"
    }
   },
   "id": "451b3ebef1c35f0d"
  },
  {
   "cell_type": "markdown",
   "source": [
    "## Defining a Neural Network Class"
   ],
   "metadata": {
    "collapsed": false
   },
   "id": "3fdb040992b5f71c"
  },
  {
   "cell_type": "code",
   "execution_count": 9,
   "outputs": [],
   "source": [
    "class NeuralNetwork():\n",
    "    def __init__(self, layers):\n",
    "        '''Takes a list of lists of nodes and creates a Neural Network object'''\n",
    "        self.layers = layers\n",
    "    def classify(self, inputs):\n",
    "        '''Takes a numpy array of inputs and returns predictions'''\n",
    "        for layer in self.layers:\n",
    "            arr = np.zeros(len(layer))\n",
    "            i = 0\n",
    "            for node in layer:\n",
    "                arr[i] = node.calculate(inputs)\n",
    "                i += 1\n",
    "            inputs = arr\n",
    "        return softmax(inputs)\n",
    "    def train(self, learning_rate, X_train, targets):\n",
    "        ls = []\n",
    "        \n",
    "        for i in X_train.index:\n",
    "            inputs = np.array([X_train.loc[i].SepalLengthCm,\n",
    "                               X_train.loc[i].SepalWidthCm,\n",
    "                               X_train.loc[i].PetalLengthCm,\n",
    "                               X_train.loc[i].PetalWidthCm])\n",
    "            arr = self.classify(inputs=inputs)\n",
    "            ls.append(arr)\n",
    "        preds = np.array(ls)\n",
    "        #Hardcoded 3 Outputs\n",
    "        X_train['obs0'], X_train['obs1'], X_train['obs2'] = targets[:,0], targets[:,1], targets[:,2]\n",
    "        X_train['preds0'], X_train['preds1'], X_train['preds2'] = preds[:,0], preds[:,1], preds[:,2]\n",
    "        for n in range(len(self.layers[-1])):\n",
    "            d_crossentropy_wrt_bias = 0\n",
    "            d_crossentropy_wrt_weights = np.zeros(len(self.layers[-2])) \n",
    "            d_crossentropy_wrt_node_biases = np.zeros(len(self.layers[-2]))\n",
    "            d_crossentropy_nodeweights_total = np.zeros((len(self.layers[-2]), len(inputs)))\n",
    "            \n",
    "            \n",
    "            for i in X_train.index:\n",
    "                d_crossentropy_wrt_bias += -X_train.loc[i][str('obs' + str(n))] * (1 - X_train.loc[i][str('preds' + str(n))])\n",
    "                node_values = np.zeros(0)\n",
    "                \n",
    "                d_crossentropy_wrt_node_weights = np.zeros((len(self.layers[-2]), len(inputs)))\n",
    "                \n",
    "                for j in range(len(self.layers[-2])):\n",
    "                    node_value = self.layers[-2][j].calculate(inputs)\n",
    "                    node_bias = self.layers[-2][j].bias\n",
    "                    node_weights = self.layers[-2][j].weights\n",
    "                    node_values = np.append(node_values, node_value)\n",
    "                    \n",
    "                    if node_value > 0: #Derivative of Relu is 1 (And divides out) if y > 0, otherwise derivative is 0 and cancels out, and no need to update total gradient.\n",
    "                        d = self.layers[-1][n].weights * (X_train.loc[i][str('obs' + str(n))] / X_train.loc[i][str('preds' + str(n))])\n",
    "                        d_crossentropy_wrt_node_biases += d\n",
    "                        d_crossentropy_wrt_node_weights[j] = d[j] * inputs\n",
    "                \n",
    "                    \n",
    "                        \n",
    "                    \n",
    "                d_crossentropy_wrt_weights += -X_train.loc[i][str('obs' + str(n))] *(1 - X_train.loc[i][str('preds' + str(n))]) * node_values\n",
    "                d_crossentropy_nodeweights_total += d_crossentropy_wrt_node_weights\n",
    "                \n",
    "            bias_step = d_crossentropy_wrt_bias * learning_rate\n",
    "            weights_steps = d_crossentropy_wrt_weights * learning_rate\n",
    "            node_biases_step = d_crossentropy_wrt_node_biases * learning_rate\n",
    "            node_weights_step = d_crossentropy_nodeweights_total * learning_rate\n",
    "            \n",
    "            self.layers[-1][n].bias += bias_step\n",
    "            self.layers[-1][n].weights += weights_steps\n",
    "            \n",
    "            for nd in range(len(self.layers[-2])):\n",
    "                self.layers[-2][nd].bias += node_biases_step[nd]\n",
    "                self.layers[-2][nd].weights += node_weights_step[nd]\n",
    "        "
   ],
   "metadata": {
    "collapsed": false,
    "ExecuteTime": {
     "end_time": "2024-05-03T20:38:36.741391800Z",
     "start_time": "2024-05-03T20:38:36.701317600Z"
    }
   },
   "id": "d8a384396ca9422e"
  },
  {
   "cell_type": "markdown",
   "source": [
    "## Initializing the Hidden Layer"
   ],
   "metadata": {
    "collapsed": false
   },
   "id": "24a145adbbb5a38b"
  },
  {
   "cell_type": "code",
   "execution_count": 10,
   "outputs": [],
   "source": [
    "hidden_node_1 = Node(weights=np.array([5 * (np.random.rand() - 0.5),\n",
    "                                       5 * (np.random.rand() - 0.5),\n",
    "                                       5 * (np.random.rand() - 0.5), \n",
    "                                       5 * (np.random.rand() - 0.5)]),\n",
    "                     bias=0,\n",
    "                     activationFn=relu\n",
    "                     )\n",
    "hidden_node_2 = Node(weights=np.array([5 * (np.random.rand() - 0.5),\n",
    "                                       5 * (np.random.rand() - 0.5),\n",
    "                                       5 * (np.random.rand() - 0.5), \n",
    "                                       5 * (np.random.rand() - 0.5)]),\n",
    "                     bias=0,\n",
    "                     activationFn=relu\n",
    "                     )\n",
    "hidden_node_3 = Node(weights=np.array([5 * (np.random.rand() - 0.5),\n",
    "                                       5 * (np.random.rand() - 0.5),\n",
    "                                       5 * (np.random.rand() - 0.5), \n",
    "                                       5 * (np.random.rand() - 0.5)]),\n",
    "                     bias=0,\n",
    "                     activationFn=relu\n",
    "                     )\n",
    "hidden_node_4 = Node(weights=np.array([5 * (np.random.rand() - 0.5),\n",
    "                                       5 * (np.random.rand() - 0.5),\n",
    "                                       5 * (np.random.rand() - 0.5), \n",
    "                                       5 * (np.random.rand() - 0.5)]),\n",
    "                     bias=0,\n",
    "                     activationFn=relu\n",
    "                     )\n",
    "hidden_node_5 = Node(weights=np.array([5 * (np.random.rand() - 0.5),\n",
    "                                       5 * (np.random.rand() - 0.5),\n",
    "                                       5 * (np.random.rand() - 0.5), \n",
    "                                       5 * (np.random.rand() - 0.5)]),\n",
    "                     bias=0,\n",
    "                     activationFn=relu\n",
    "                     )\n",
    "hidden_node_6 = Node(weights=np.array([5 * (np.random.rand() - 0.5),\n",
    "                                       5 * (np.random.rand() - 0.5),\n",
    "                                       5 * (np.random.rand() - 0.5), \n",
    "                                       5 * (np.random.rand() - 0.5)]),\n",
    "                     bias=0,\n",
    "                     activationFn=relu\n",
    "                     )\n",
    "hidden_node_7 = Node(weights=np.array([5 * (np.random.rand() - 0.5),\n",
    "                                       5 * (np.random.rand() - 0.5),\n",
    "                                       5 * (np.random.rand() - 0.5), \n",
    "                                       5 * (np.random.rand() - 0.5)]),\n",
    "                     bias=0,\n",
    "                     activationFn=relu\n",
    "                     )\n",
    "hidden_node_8 = Node(weights=np.array([5 * (np.random.rand() - 0.5),\n",
    "                                       5 * (np.random.rand() - 0.5),\n",
    "                                       5 * (np.random.rand() - 0.5), \n",
    "                                       5 * (np.random.rand() - 0.5)]),\n",
    "                     bias=0,\n",
    "                     activationFn=relu\n",
    "                     )\n",
    "\n",
    "\n",
    "hidden_layer = [hidden_node_1, hidden_node_2, hidden_node_3, hidden_node_4, hidden_node_5, hidden_node_6, hidden_node_7, hidden_node_8]"
   ],
   "metadata": {
    "collapsed": false,
    "ExecuteTime": {
     "end_time": "2024-05-03T20:38:36.757875Z",
     "start_time": "2024-05-03T20:38:36.716006100Z"
    }
   },
   "id": "2f9cf1e6ef2a4409"
  },
  {
   "cell_type": "markdown",
   "source": [
    "## Initializing the Output Layer"
   ],
   "metadata": {
    "collapsed": false
   },
   "id": "f710a5de592e2923"
  },
  {
   "cell_type": "code",
   "execution_count": 11,
   "outputs": [],
   "source": [
    "setosa_node = Node(weights=np.array([5 * (np.random.rand() - 0.5),\n",
    "                                       5 * (np.random.rand() - 0.5),\n",
    "                                       5 * (np.random.rand() - 0.5), \n",
    "                                       5 * (np.random.rand() - 0.5),\n",
    "                                       5 * (np.random.rand() - 0.5),\n",
    "                                       5 * (np.random.rand() - 0.5),\n",
    "                                       5 * (np.random.rand() - 0.5), \n",
    "                                       5 * (np.random.rand() - 0.5)]),\n",
    "                     bias=0,\n",
    "                     activationFn=onetoone\n",
    "                     )\n",
    "virginica_node = Node(weights=np.array([5 * (np.random.rand() - 0.5),\n",
    "                                       5 * (np.random.rand() - 0.5),\n",
    "                                       5 * (np.random.rand() - 0.5), \n",
    "                                       5 * (np.random.rand() - 0.5),\n",
    "                                        5 * (np.random.rand() - 0.5),\n",
    "                                       5 * (np.random.rand() - 0.5),\n",
    "                                       5 * (np.random.rand() - 0.5), \n",
    "                                       5 * (np.random.rand() - 0.5)]),\n",
    "                     bias=0,\n",
    "                     activationFn=onetoone\n",
    "                     )\n",
    "versicolor_node = Node(weights=np.array([5 * (np.random.rand() - 0.5),\n",
    "                                       5 * (np.random.rand() - 0.5),\n",
    "                                       5 * (np.random.rand() - 0.5), \n",
    "                                       5 * (np.random.rand() - 0.5),\n",
    "                                         5 * (np.random.rand() - 0.5),\n",
    "                                       5 * (np.random.rand() - 0.5),\n",
    "                                       5 * (np.random.rand() - 0.5), \n",
    "                                       5 * (np.random.rand() - 0.5)]),\n",
    "                     bias=0,\n",
    "                     activationFn=onetoone\n",
    "                     )\n",
    "output_layer = [setosa_node, versicolor_node, virginica_node]"
   ],
   "metadata": {
    "collapsed": false,
    "ExecuteTime": {
     "end_time": "2024-05-03T20:38:36.785795900Z",
     "start_time": "2024-05-03T20:38:36.733252700Z"
    }
   },
   "id": "3148e3fe2db82e47"
  },
  {
   "cell_type": "code",
   "execution_count": 12,
   "outputs": [],
   "source": [
    "neural_net = NeuralNetwork(layers=[hidden_layer,output_layer])"
   ],
   "metadata": {
    "collapsed": false,
    "ExecuteTime": {
     "end_time": "2024-05-03T20:38:36.789202200Z",
     "start_time": "2024-05-03T20:38:36.741209200Z"
    }
   },
   "id": "c1c70b9a8f20b0e8"
  },
  {
   "cell_type": "code",
   "execution_count": 52,
   "outputs": [],
   "source": [
    "for i in range(200): neural_net.train(X_train=X_train, targets=y_train_transformed, learning_rate=0.01)"
   ],
   "metadata": {
    "collapsed": false,
    "ExecuteTime": {
     "end_time": "2024-05-03T20:47:39.696037800Z",
     "start_time": "2024-05-03T20:47:24.149396300Z"
    }
   },
   "id": "ada4cf95c522074d"
  },
  {
   "cell_type": "code",
   "execution_count": 49,
   "outputs": [],
   "source": [
    "virginica = np.array([6.3,3.3,6.0,2.5])\n",
    "versi = np.array([5.0,2.3,3.3,1.0])\n",
    "setosa = np.array([4.8,3.0,1.4,0.1])"
   ],
   "metadata": {
    "collapsed": false,
    "ExecuteTime": {
     "end_time": "2024-05-03T20:46:25.607337700Z",
     "start_time": "2024-05-03T20:46:25.599948300Z"
    }
   },
   "id": "279c165a3a0b3e51"
  },
  {
   "cell_type": "code",
   "execution_count": 53,
   "outputs": [
    {
     "name": "stdout",
     "output_type": "stream",
     "text": [
      "[0.30558037 0.35733001 0.33708962]\n",
      "[0.31283835 0.34578444 0.34137721]\n",
      "[0.31695327 0.34059873 0.342448  ]\n"
     ]
    }
   ],
   "source": [
    "print(neural_net.classify(inputs=virginica))\n",
    "print(neural_net.classify(inputs=versi))\n",
    "print(neural_net.classify(inputs=setosa))"
   ],
   "metadata": {
    "collapsed": false,
    "ExecuteTime": {
     "end_time": "2024-05-03T20:47:43.684367400Z",
     "start_time": "2024-05-03T20:47:43.664928700Z"
    }
   },
   "id": "cb2bbf9319d11579"
  },
  {
   "cell_type": "code",
   "execution_count": 51,
   "outputs": [
    {
     "data": {
      "text/plain": "      Id  SepalLengthCm  SepalWidthCm  PetalLengthCm  PetalWidthCm  \\\n135  136            7.7           3.0            6.1           2.3   \n90    91            5.5           2.6            4.4           1.2   \n145  146            6.7           3.0            5.2           2.3   \n147  148            6.5           3.0            5.2           2.0   \n60    61            5.0           2.0            3.5           1.0   \n37    38            4.9           3.1            1.5           0.1   \n26    27            5.0           3.4            1.6           0.4   \n3      4            4.6           3.1            1.5           0.2   \n75    76            6.6           3.0            4.4           1.4   \n9     10            4.9           3.1            1.5           0.1   \n25    26            5.0           3.0            1.6           0.2   \n73    74            6.1           2.8            4.7           1.2   \n98    99            5.1           2.5            3.0           1.1   \n94    95            5.6           2.7            4.2           1.3   \n39    40            5.1           3.4            1.5           0.2   \n81    82            5.5           2.4            3.7           1.0   \n31    32            5.4           3.4            1.5           0.4   \n55    56            5.7           2.8            4.5           1.3   \n101  102            5.8           2.7            5.1           1.9   \n47    48            4.6           3.2            1.4           0.2   \n28    29            5.2           3.4            1.4           0.2   \n27    28            5.2           3.5            1.5           0.2   \n111  112            6.4           2.7            5.3           1.9   \n20    21            5.4           3.4            1.7           0.2   \n118  119            7.7           2.6            6.9           2.3   \n89    90            5.5           2.5            4.0           1.3   \n43    44            5.0           3.5            1.6           0.6   \n144  145            6.7           3.3            5.7           2.5   \n8      9            4.4           2.9            1.4           0.2   \n137  138            6.4           3.1            5.5           1.8   \n\n             Species    setosa  versicolor  virginica  \n135   Iris-virginica  0.303692    0.360500   0.335808  \n90   Iris-versicolor  0.310110    0.351409   0.338481  \n145   Iris-virginica  0.304453    0.358427   0.337120  \n147   Iris-virginica  0.305820    0.357203   0.336977  \n60   Iris-versicolor  0.311966    0.347138   0.340896  \n37       Iris-setosa  0.316896    0.341468   0.341636  \n26       Iris-setosa  0.315416    0.343490   0.341094  \n3        Iris-setosa  0.316559    0.341764   0.341676  \n75   Iris-versicolor  0.308885    0.353170   0.337945  \n9        Iris-setosa  0.316896    0.341468   0.341636  \n25       Iris-setosa  0.316434    0.341842   0.341725  \n73   Iris-versicolor  0.309694    0.352601   0.337705  \n98   Iris-versicolor  0.311712    0.347428   0.340860  \n94   Iris-versicolor  0.309776    0.351549   0.338675  \n39       Iris-setosa  0.316291    0.342560   0.341149  \n81   Iris-versicolor  0.311539    0.348606   0.339855  \n31       Iris-setosa  0.315411    0.343300   0.341288  \n55   Iris-versicolor  0.309510    0.352454   0.338036  \n101   Iris-virginica  0.306550    0.355888   0.337562  \n47       Iris-setosa  0.316596    0.341749   0.341656  \n28       Iris-setosa  0.316356    0.342322   0.341322  \n27       Iris-setosa  0.316217    0.342812   0.340971  \n111   Iris-virginica  0.306277    0.356436   0.337287  \n20       Iris-setosa  0.316049    0.343111   0.340840  \n118   Iris-virginica  0.303304    0.361413   0.335282  \n89   Iris-versicolor  0.310007    0.350646   0.339347  \n43       Iris-setosa  0.314548    0.344427   0.341026  \n144   Iris-virginica  0.303247    0.360820   0.335933  \n8        Iris-setosa  0.316802    0.340986   0.342212  \n137   Iris-virginica  0.306499    0.357233   0.336267  ",
      "text/html": "<div>\n<style scoped>\n    .dataframe tbody tr th:only-of-type {\n        vertical-align: middle;\n    }\n\n    .dataframe tbody tr th {\n        vertical-align: top;\n    }\n\n    .dataframe thead th {\n        text-align: right;\n    }\n</style>\n<table border=\"1\" class=\"dataframe\">\n  <thead>\n    <tr style=\"text-align: right;\">\n      <th></th>\n      <th>Id</th>\n      <th>SepalLengthCm</th>\n      <th>SepalWidthCm</th>\n      <th>PetalLengthCm</th>\n      <th>PetalWidthCm</th>\n      <th>Species</th>\n      <th>setosa</th>\n      <th>versicolor</th>\n      <th>virginica</th>\n    </tr>\n  </thead>\n  <tbody>\n    <tr>\n      <th>135</th>\n      <td>136</td>\n      <td>7.7</td>\n      <td>3.0</td>\n      <td>6.1</td>\n      <td>2.3</td>\n      <td>Iris-virginica</td>\n      <td>0.303692</td>\n      <td>0.360500</td>\n      <td>0.335808</td>\n    </tr>\n    <tr>\n      <th>90</th>\n      <td>91</td>\n      <td>5.5</td>\n      <td>2.6</td>\n      <td>4.4</td>\n      <td>1.2</td>\n      <td>Iris-versicolor</td>\n      <td>0.310110</td>\n      <td>0.351409</td>\n      <td>0.338481</td>\n    </tr>\n    <tr>\n      <th>145</th>\n      <td>146</td>\n      <td>6.7</td>\n      <td>3.0</td>\n      <td>5.2</td>\n      <td>2.3</td>\n      <td>Iris-virginica</td>\n      <td>0.304453</td>\n      <td>0.358427</td>\n      <td>0.337120</td>\n    </tr>\n    <tr>\n      <th>147</th>\n      <td>148</td>\n      <td>6.5</td>\n      <td>3.0</td>\n      <td>5.2</td>\n      <td>2.0</td>\n      <td>Iris-virginica</td>\n      <td>0.305820</td>\n      <td>0.357203</td>\n      <td>0.336977</td>\n    </tr>\n    <tr>\n      <th>60</th>\n      <td>61</td>\n      <td>5.0</td>\n      <td>2.0</td>\n      <td>3.5</td>\n      <td>1.0</td>\n      <td>Iris-versicolor</td>\n      <td>0.311966</td>\n      <td>0.347138</td>\n      <td>0.340896</td>\n    </tr>\n    <tr>\n      <th>37</th>\n      <td>38</td>\n      <td>4.9</td>\n      <td>3.1</td>\n      <td>1.5</td>\n      <td>0.1</td>\n      <td>Iris-setosa</td>\n      <td>0.316896</td>\n      <td>0.341468</td>\n      <td>0.341636</td>\n    </tr>\n    <tr>\n      <th>26</th>\n      <td>27</td>\n      <td>5.0</td>\n      <td>3.4</td>\n      <td>1.6</td>\n      <td>0.4</td>\n      <td>Iris-setosa</td>\n      <td>0.315416</td>\n      <td>0.343490</td>\n      <td>0.341094</td>\n    </tr>\n    <tr>\n      <th>3</th>\n      <td>4</td>\n      <td>4.6</td>\n      <td>3.1</td>\n      <td>1.5</td>\n      <td>0.2</td>\n      <td>Iris-setosa</td>\n      <td>0.316559</td>\n      <td>0.341764</td>\n      <td>0.341676</td>\n    </tr>\n    <tr>\n      <th>75</th>\n      <td>76</td>\n      <td>6.6</td>\n      <td>3.0</td>\n      <td>4.4</td>\n      <td>1.4</td>\n      <td>Iris-versicolor</td>\n      <td>0.308885</td>\n      <td>0.353170</td>\n      <td>0.337945</td>\n    </tr>\n    <tr>\n      <th>9</th>\n      <td>10</td>\n      <td>4.9</td>\n      <td>3.1</td>\n      <td>1.5</td>\n      <td>0.1</td>\n      <td>Iris-setosa</td>\n      <td>0.316896</td>\n      <td>0.341468</td>\n      <td>0.341636</td>\n    </tr>\n    <tr>\n      <th>25</th>\n      <td>26</td>\n      <td>5.0</td>\n      <td>3.0</td>\n      <td>1.6</td>\n      <td>0.2</td>\n      <td>Iris-setosa</td>\n      <td>0.316434</td>\n      <td>0.341842</td>\n      <td>0.341725</td>\n    </tr>\n    <tr>\n      <th>73</th>\n      <td>74</td>\n      <td>6.1</td>\n      <td>2.8</td>\n      <td>4.7</td>\n      <td>1.2</td>\n      <td>Iris-versicolor</td>\n      <td>0.309694</td>\n      <td>0.352601</td>\n      <td>0.337705</td>\n    </tr>\n    <tr>\n      <th>98</th>\n      <td>99</td>\n      <td>5.1</td>\n      <td>2.5</td>\n      <td>3.0</td>\n      <td>1.1</td>\n      <td>Iris-versicolor</td>\n      <td>0.311712</td>\n      <td>0.347428</td>\n      <td>0.340860</td>\n    </tr>\n    <tr>\n      <th>94</th>\n      <td>95</td>\n      <td>5.6</td>\n      <td>2.7</td>\n      <td>4.2</td>\n      <td>1.3</td>\n      <td>Iris-versicolor</td>\n      <td>0.309776</td>\n      <td>0.351549</td>\n      <td>0.338675</td>\n    </tr>\n    <tr>\n      <th>39</th>\n      <td>40</td>\n      <td>5.1</td>\n      <td>3.4</td>\n      <td>1.5</td>\n      <td>0.2</td>\n      <td>Iris-setosa</td>\n      <td>0.316291</td>\n      <td>0.342560</td>\n      <td>0.341149</td>\n    </tr>\n    <tr>\n      <th>81</th>\n      <td>82</td>\n      <td>5.5</td>\n      <td>2.4</td>\n      <td>3.7</td>\n      <td>1.0</td>\n      <td>Iris-versicolor</td>\n      <td>0.311539</td>\n      <td>0.348606</td>\n      <td>0.339855</td>\n    </tr>\n    <tr>\n      <th>31</th>\n      <td>32</td>\n      <td>5.4</td>\n      <td>3.4</td>\n      <td>1.5</td>\n      <td>0.4</td>\n      <td>Iris-setosa</td>\n      <td>0.315411</td>\n      <td>0.343300</td>\n      <td>0.341288</td>\n    </tr>\n    <tr>\n      <th>55</th>\n      <td>56</td>\n      <td>5.7</td>\n      <td>2.8</td>\n      <td>4.5</td>\n      <td>1.3</td>\n      <td>Iris-versicolor</td>\n      <td>0.309510</td>\n      <td>0.352454</td>\n      <td>0.338036</td>\n    </tr>\n    <tr>\n      <th>101</th>\n      <td>102</td>\n      <td>5.8</td>\n      <td>2.7</td>\n      <td>5.1</td>\n      <td>1.9</td>\n      <td>Iris-virginica</td>\n      <td>0.306550</td>\n      <td>0.355888</td>\n      <td>0.337562</td>\n    </tr>\n    <tr>\n      <th>47</th>\n      <td>48</td>\n      <td>4.6</td>\n      <td>3.2</td>\n      <td>1.4</td>\n      <td>0.2</td>\n      <td>Iris-setosa</td>\n      <td>0.316596</td>\n      <td>0.341749</td>\n      <td>0.341656</td>\n    </tr>\n    <tr>\n      <th>28</th>\n      <td>29</td>\n      <td>5.2</td>\n      <td>3.4</td>\n      <td>1.4</td>\n      <td>0.2</td>\n      <td>Iris-setosa</td>\n      <td>0.316356</td>\n      <td>0.342322</td>\n      <td>0.341322</td>\n    </tr>\n    <tr>\n      <th>27</th>\n      <td>28</td>\n      <td>5.2</td>\n      <td>3.5</td>\n      <td>1.5</td>\n      <td>0.2</td>\n      <td>Iris-setosa</td>\n      <td>0.316217</td>\n      <td>0.342812</td>\n      <td>0.340971</td>\n    </tr>\n    <tr>\n      <th>111</th>\n      <td>112</td>\n      <td>6.4</td>\n      <td>2.7</td>\n      <td>5.3</td>\n      <td>1.9</td>\n      <td>Iris-virginica</td>\n      <td>0.306277</td>\n      <td>0.356436</td>\n      <td>0.337287</td>\n    </tr>\n    <tr>\n      <th>20</th>\n      <td>21</td>\n      <td>5.4</td>\n      <td>3.4</td>\n      <td>1.7</td>\n      <td>0.2</td>\n      <td>Iris-setosa</td>\n      <td>0.316049</td>\n      <td>0.343111</td>\n      <td>0.340840</td>\n    </tr>\n    <tr>\n      <th>118</th>\n      <td>119</td>\n      <td>7.7</td>\n      <td>2.6</td>\n      <td>6.9</td>\n      <td>2.3</td>\n      <td>Iris-virginica</td>\n      <td>0.303304</td>\n      <td>0.361413</td>\n      <td>0.335282</td>\n    </tr>\n    <tr>\n      <th>89</th>\n      <td>90</td>\n      <td>5.5</td>\n      <td>2.5</td>\n      <td>4.0</td>\n      <td>1.3</td>\n      <td>Iris-versicolor</td>\n      <td>0.310007</td>\n      <td>0.350646</td>\n      <td>0.339347</td>\n    </tr>\n    <tr>\n      <th>43</th>\n      <td>44</td>\n      <td>5.0</td>\n      <td>3.5</td>\n      <td>1.6</td>\n      <td>0.6</td>\n      <td>Iris-setosa</td>\n      <td>0.314548</td>\n      <td>0.344427</td>\n      <td>0.341026</td>\n    </tr>\n    <tr>\n      <th>144</th>\n      <td>145</td>\n      <td>6.7</td>\n      <td>3.3</td>\n      <td>5.7</td>\n      <td>2.5</td>\n      <td>Iris-virginica</td>\n      <td>0.303247</td>\n      <td>0.360820</td>\n      <td>0.335933</td>\n    </tr>\n    <tr>\n      <th>8</th>\n      <td>9</td>\n      <td>4.4</td>\n      <td>2.9</td>\n      <td>1.4</td>\n      <td>0.2</td>\n      <td>Iris-setosa</td>\n      <td>0.316802</td>\n      <td>0.340986</td>\n      <td>0.342212</td>\n    </tr>\n    <tr>\n      <th>137</th>\n      <td>138</td>\n      <td>6.4</td>\n      <td>3.1</td>\n      <td>5.5</td>\n      <td>1.8</td>\n      <td>Iris-virginica</td>\n      <td>0.306499</td>\n      <td>0.357233</td>\n      <td>0.336267</td>\n    </tr>\n  </tbody>\n</table>\n</div>"
     },
     "execution_count": 51,
     "metadata": {},
     "output_type": "execute_result"
    }
   ],
   "source": [
    "preds_setosa = []\n",
    "preds_virginica = []\n",
    "preds_versicolor = []\n",
    "for i in X_test.index:\n",
    "\n",
    "    inputs = np.array([X_test.loc[i].SepalLengthCm,\n",
    "                       X_test.loc[i].SepalWidthCm,\n",
    "                       X_test.loc[i].PetalLengthCm,\n",
    "                       X_test.loc[i].PetalWidthCm])\n",
    "    preds = neural_net.classify(inputs=inputs)\n",
    "    preds_setosa.append(preds[0])\n",
    "    preds_versicolor.append(preds[1])\n",
    "    preds_virginica.append(preds[2])\n",
    "\n",
    "X_test['Species'] = y_test\n",
    "X_test['setosa'] = preds_setosa\n",
    "X_test['versicolor'] = preds_versicolor\n",
    "X_test['virginica'] = preds_virginica\n",
    "X_test"
   ],
   "metadata": {
    "collapsed": false,
    "ExecuteTime": {
     "end_time": "2024-05-03T20:46:45.789575400Z",
     "start_time": "2024-05-03T20:46:45.750925Z"
    }
   },
   "id": "f2a21659af2ecb3a"
  },
  {
   "cell_type": "code",
   "execution_count": null,
   "outputs": [],
   "source": [],
   "metadata": {
    "collapsed": false
   },
   "id": "3a6d33b7c025cfd2"
  }
 ],
 "metadata": {
  "kernelspec": {
   "display_name": "Python 3",
   "language": "python",
   "name": "python3"
  },
  "language_info": {
   "codemirror_mode": {
    "name": "ipython",
    "version": 2
   },
   "file_extension": ".py",
   "mimetype": "text/x-python",
   "name": "python",
   "nbconvert_exporter": "python",
   "pygments_lexer": "ipython2",
   "version": "2.7.6"
  }
 },
 "nbformat": 4,
 "nbformat_minor": 5
}
